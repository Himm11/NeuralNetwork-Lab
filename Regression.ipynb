{
  "nbformat": 4,
  "nbformat_minor": 0,
  "metadata": {
    "colab": {
      "provenance": [],
      "authorship_tag": "ABX9TyNJ69eK/xkG+fspLKEPHg1z",
      "include_colab_link": true
    },
    "kernelspec": {
      "name": "python3",
      "display_name": "Python 3"
    },
    "language_info": {
      "name": "python"
    }
  },
  "cells": [
    {
      "cell_type": "markdown",
      "metadata": {
        "id": "view-in-github",
        "colab_type": "text"
      },
      "source": [
        "<a href=\"https://colab.research.google.com/github/Himm11/NeuralNetwork-Lab/blob/main/Regression.ipynb\" target=\"_parent\"><img src=\"https://colab.research.google.com/assets/colab-badge.svg\" alt=\"Open In Colab\"/></a>"
      ]
    },
    {
      "cell_type": "markdown",
      "source": [
        "## LAB 3: REGRESSION\n",
        "Submitted by: Himadri Singh"
      ],
      "metadata": {
        "id": "q8GpRHh9wy96"
      }
    },
    {
      "cell_type": "code",
      "execution_count": null,
      "metadata": {
        "id": "ZxfzVLDD8pOk"
      },
      "outputs": [],
      "source": [
        "import torch\n",
        "import sklearn\n",
        "import pandas as pd\n",
        "import numpy as np"
      ]
    },
    {
      "cell_type": "code",
      "source": [
        "# Make a Toy Dataset\n",
        "df = pd.read_csv(\"/content/winequality-red.csv\")\n",
        "a=df[[\"fixed acidity\",\"volatile acidity\",\"citric acid\",\"alcohol\"]]\n",
        "a=a.iloc[0:100]\n",
        "print(a)\n",
        "\n",
        "b=df[[\"quality\"]]\n",
        "b=b.iloc[0:100]\n",
        "print(b)\n",
        "\n",
        "X = torch.tensor(a.values.astype(np.float32))\n",
        "y = torch.tensor(b.values.astype(np.float32))"
      ],
      "metadata": {
        "id": "1LxdPxns9Ax3",
        "colab": {
          "base_uri": "https://localhost:8080/"
        },
        "outputId": "a19a1ad1-2e82-4a8a-dd19-7e380875331b"
      },
      "execution_count": null,
      "outputs": [
        {
          "output_type": "stream",
          "name": "stdout",
          "text": [
            "    fixed acidity  volatile acidity  citric acid  alcohol\n",
            "0             7.4             0.700         0.00      9.4\n",
            "1             7.8             0.880         0.00      9.8\n",
            "2             7.8             0.760         0.04      9.8\n",
            "3            11.2             0.280         0.56      9.8\n",
            "4             7.4             0.700         0.00      9.4\n",
            "..            ...               ...          ...      ...\n",
            "95            4.7             0.600         0.17     12.9\n",
            "96            6.8             0.775         0.00     10.7\n",
            "97            7.0             0.500         0.25      9.2\n",
            "98            7.6             0.900         0.06      9.8\n",
            "99            8.1             0.545         0.18      9.0\n",
            "\n",
            "[100 rows x 4 columns]\n",
            "    quality\n",
            "0         5\n",
            "1         5\n",
            "2         5\n",
            "3         6\n",
            "4         5\n",
            "..      ...\n",
            "95        6\n",
            "96        5\n",
            "97        5\n",
            "98        5\n",
            "99        6\n",
            "\n",
            "[100 rows x 1 columns]\n"
          ]
        }
      ]
    },
    {
      "cell_type": "code",
      "source": [
        "# Data Shffling\n",
        "torch.manual_seed(10)\n",
        "suffle_idx=torch.randperm(y.size(0),dtype=torch.long)\n",
        "X,y=X[suffle_idx],y[suffle_idx]\n",
        "suffle_idx[:10]\n",
        "\n",
        "#suffle_idx is number between range 0 and size(y)-1\n",
        "#It is used as index with numbers in an undefined pattern and is used to shuffle x and y"
      ],
      "metadata": {
        "id": "iW3ACthE9UHy",
        "colab": {
          "base_uri": "https://localhost:8080/"
        },
        "outputId": "e88f0650-abb5-45d7-ff01-b6ec3e8eab05"
      },
      "execution_count": null,
      "outputs": [
        {
          "output_type": "execute_result",
          "data": {
            "text/plain": [
              "tensor([37, 13, 90, 47,  4, 40, 17, 92, 41, 60])"
            ]
          },
          "metadata": {},
          "execution_count": 169
        }
      ]
    },
    {
      "cell_type": "code",
      "source": [
        "# Train Test split\n",
        "train_size=int(suffle_idx.size(0)*0.8)\n",
        "train_idx= suffle_idx[:train_size]\n",
        "test_idx=suffle_idx[train_size:]\n",
        "X_train,y_train=X[train_idx],y[train_idx]\n",
        "X_test,y_test=X[test_idx],y[test_idx]"
      ],
      "metadata": {
        "id": "htyqar_O_gQS"
      },
      "execution_count": null,
      "outputs": []
    },
    {
      "cell_type": "code",
      "source": [
        "# Normalize\n",
        "mean,std_dev=X_train.mean(dim=0) ,X_train.std(dim=0)\n",
        "X_train=(X_train-mean)/std_dev\n",
        "X_test=(X_test-mean)/std_dev\n"
      ],
      "metadata": {
        "id": "eZsTalNdueJF"
      },
      "execution_count": null,
      "outputs": []
    },
    {
      "cell_type": "code",
      "source": [
        "import torch.nn as nn\n",
        "from torch.autograd import grad"
      ],
      "metadata": {
        "id": "QDGeHX1VDcDG"
      },
      "execution_count": null,
      "outputs": []
    },
    {
      "cell_type": "code",
      "source": [
        "class NN():\n",
        "  def __init__(self,n_features):\n",
        "    self.n_features=n_features\n",
        "    self.weight=torch.zeros(size=(n_features,1),dtype=torch.float,requires_grad=True)\n",
        "    self.bias=torch.zeros(1,dtype=torch.float,requires_grad=True)\n",
        "\n",
        "\n",
        "  def forward(self,x):\n",
        "    output=torch.add(torch.mm(x,self.weight),self.bias)\n",
        "    return output.view(-1)\n",
        "\n",
        "def loss_fn(yhat,y):\n",
        "  return torch.mean((yhat-y)**2)\n"
      ],
      "metadata": {
        "id": "S5gFo5e-Dkon"
      },
      "execution_count": null,
      "outputs": []
    },
    {
      "cell_type": "code",
      "source": [
        "def train(model,x,y,n_epoch=10,lr=0.01,seed=23,bsz=50):\n",
        "\n",
        "  cost=[]\n",
        "  torch.manual_seed(seed)\n",
        "  for i in range(n_epoch):\n",
        "    suffle_idx=torch.randperm(y.size(0))\n",
        "    batches=torch.split(suffle_idx,bsz)\n",
        "\n",
        "    for idx in batches:\n",
        "\n",
        "      yhat=model.forward(x[idx])\n",
        "\n",
        "      loss=loss_fn(yhat,y[idx])\n",
        "\n",
        "      grad_w=grad(loss,model.weight,retain_graph=True)[0]\n",
        "      grad_b=grad(loss,model.bias)[0]\n",
        "\n",
        "      model.weight=model.weight-lr*grad_w\n",
        "      model.bias=model.bias-lr*grad_b\n",
        "\n",
        "    with torch.no_grad():\n",
        "      yhat=model.forward(x)\n",
        "      curr_loss=loss_fn(yhat,y)\n",
        "      print('Epoc: %3d ' % (i+1),end=\"\")\n",
        "      print('| MSE % .5f' % curr_loss)\n",
        "      cost.append(curr_loss)\n",
        "\n",
        "  return cost\n",
        "\n",
        "\n"
      ],
      "metadata": {
        "id": "W4VG658oG6Sk"
      },
      "execution_count": null,
      "outputs": []
    },
    {
      "cell_type": "code",
      "source": [
        "model=NN(X_train.size(1))\n",
        "cost=train(model,X_train,y_train,n_epoch=150)"
      ],
      "metadata": {
        "id": "pg5M3m31Fo39",
        "colab": {
          "base_uri": "https://localhost:8080/"
        },
        "outputId": "d883d409-09c3-4804-e086-ac5d4584a722"
      },
      "execution_count": null,
      "outputs": [
        {
          "output_type": "stream",
          "name": "stdout",
          "text": [
            "Epoc:   1 | MSE  25.70335\n",
            "Epoc:   2 | MSE  23.74044\n",
            "Epoc:   3 | MSE  21.93131\n",
            "Epoc:   4 | MSE  20.25554\n",
            "Epoc:   5 | MSE  18.71199\n",
            "Epoc:   6 | MSE  17.29063\n",
            "Epoc:   7 | MSE  15.98227\n",
            "Epoc:   8 | MSE  14.77558\n",
            "Epoc:   9 | MSE  13.67229\n",
            "Epoc:  10 | MSE  12.64757\n",
            "Epoc:  11 | MSE  11.69199\n",
            "Epoc:  12 | MSE  10.81402\n",
            "Epoc:  13 | MSE  9.99898\n",
            "Epoc:  14 | MSE  9.25268\n",
            "Epoc:  15 | MSE  8.57074\n",
            "Epoc:  16 | MSE  7.93675\n",
            "Epoc:  17 | MSE  7.35485\n",
            "Epoc:  18 | MSE  6.81807\n",
            "Epoc:  19 | MSE  6.31774\n",
            "Epoc:  20 | MSE  5.85643\n",
            "Epoc:  21 | MSE  5.43244\n",
            "Epoc:  22 | MSE  5.03651\n",
            "Epoc:  23 | MSE  4.68577\n",
            "Epoc:  24 | MSE  4.35358\n",
            "Epoc:  25 | MSE  4.05371\n",
            "Epoc:  26 | MSE  3.76908\n",
            "Epoc:  27 | MSE  3.50615\n",
            "Epoc:  28 | MSE  3.26172\n",
            "Epoc:  29 | MSE  3.04244\n",
            "Epoc:  30 | MSE  2.83609\n",
            "Epoc:  31 | MSE  2.64838\n",
            "Epoc:  32 | MSE  2.47266\n",
            "Epoc:  33 | MSE  2.30908\n",
            "Epoc:  34 | MSE  2.16006\n",
            "Epoc:  35 | MSE  2.02823\n",
            "Epoc:  36 | MSE  1.90103\n",
            "Epoc:  37 | MSE  1.78575\n",
            "Epoc:  38 | MSE  1.67927\n",
            "Epoc:  39 | MSE  1.57755\n",
            "Epoc:  40 | MSE  1.48264\n",
            "Epoc:  41 | MSE  1.39729\n",
            "Epoc:  42 | MSE  1.32083\n",
            "Epoc:  43 | MSE  1.24989\n",
            "Epoc:  44 | MSE  1.18390\n",
            "Epoc:  45 | MSE  1.12208\n",
            "Epoc:  46 | MSE  1.06697\n",
            "Epoc:  47 | MSE  1.01701\n",
            "Epoc:  48 | MSE  0.96878\n",
            "Epoc:  49 | MSE  0.92430\n",
            "Epoc:  50 | MSE  0.88490\n",
            "Epoc:  51 | MSE  0.84740\n",
            "Epoc:  52 | MSE  0.81211\n",
            "Epoc:  53 | MSE  0.78160\n",
            "Epoc:  54 | MSE  0.75277\n",
            "Epoc:  55 | MSE  0.72497\n",
            "Epoc:  56 | MSE  0.69843\n",
            "Epoc:  57 | MSE  0.67575\n",
            "Epoc:  58 | MSE  0.65511\n",
            "Epoc:  59 | MSE  0.63528\n",
            "Epoc:  60 | MSE  0.61828\n",
            "Epoc:  61 | MSE  0.60037\n",
            "Epoc:  62 | MSE  0.58694\n",
            "Epoc:  63 | MSE  0.57113\n",
            "Epoc:  64 | MSE  0.55877\n",
            "Epoc:  65 | MSE  0.54777\n",
            "Epoc:  66 | MSE  0.53599\n",
            "Epoc:  67 | MSE  0.52591\n",
            "Epoc:  68 | MSE  0.51736\n",
            "Epoc:  69 | MSE  0.50839\n",
            "Epoc:  70 | MSE  0.50081\n",
            "Epoc:  71 | MSE  0.49363\n",
            "Epoc:  72 | MSE  0.48685\n",
            "Epoc:  73 | MSE  0.48016\n",
            "Epoc:  74 | MSE  0.47399\n",
            "Epoc:  75 | MSE  0.46873\n",
            "Epoc:  76 | MSE  0.46376\n",
            "Epoc:  77 | MSE  0.45942\n",
            "Epoc:  78 | MSE  0.45530\n",
            "Epoc:  79 | MSE  0.45196\n",
            "Epoc:  80 | MSE  0.44841\n",
            "Epoc:  81 | MSE  0.44568\n",
            "Epoc:  82 | MSE  0.44294\n",
            "Epoc:  83 | MSE  0.44030\n",
            "Epoc:  84 | MSE  0.43795\n",
            "Epoc:  85 | MSE  0.43577\n",
            "Epoc:  86 | MSE  0.43356\n",
            "Epoc:  87 | MSE  0.43188\n",
            "Epoc:  88 | MSE  0.43006\n",
            "Epoc:  89 | MSE  0.42813\n",
            "Epoc:  90 | MSE  0.42650\n",
            "Epoc:  91 | MSE  0.42523\n",
            "Epoc:  92 | MSE  0.42397\n",
            "Epoc:  93 | MSE  0.42259\n",
            "Epoc:  94 | MSE  0.42139\n",
            "Epoc:  95 | MSE  0.42034\n",
            "Epoc:  96 | MSE  0.41905\n",
            "Epoc:  97 | MSE  0.41799\n",
            "Epoc:  98 | MSE  0.41696\n",
            "Epoc:  99 | MSE  0.41580\n",
            "Epoc: 100 | MSE  0.41505\n",
            "Epoc: 101 | MSE  0.41436\n",
            "Epoc: 102 | MSE  0.41377\n",
            "Epoc: 103 | MSE  0.41310\n",
            "Epoc: 104 | MSE  0.41260\n",
            "Epoc: 105 | MSE  0.41231\n",
            "Epoc: 106 | MSE  0.41188\n",
            "Epoc: 107 | MSE  0.41155\n",
            "Epoc: 108 | MSE  0.41099\n",
            "Epoc: 109 | MSE  0.41047\n",
            "Epoc: 110 | MSE  0.41007\n",
            "Epoc: 111 | MSE  0.40990\n",
            "Epoc: 112 | MSE  0.40954\n",
            "Epoc: 113 | MSE  0.40934\n",
            "Epoc: 114 | MSE  0.40909\n",
            "Epoc: 115 | MSE  0.40881\n",
            "Epoc: 116 | MSE  0.40873\n",
            "Epoc: 117 | MSE  0.40861\n",
            "Epoc: 118 | MSE  0.40822\n",
            "Epoc: 119 | MSE  0.40801\n",
            "Epoc: 120 | MSE  0.40782\n",
            "Epoc: 121 | MSE  0.40766\n",
            "Epoc: 122 | MSE  0.40747\n",
            "Epoc: 123 | MSE  0.40740\n",
            "Epoc: 124 | MSE  0.40728\n",
            "Epoc: 125 | MSE  0.40721\n",
            "Epoc: 126 | MSE  0.40711\n",
            "Epoc: 127 | MSE  0.40708\n",
            "Epoc: 128 | MSE  0.40701\n",
            "Epoc: 129 | MSE  0.40695\n",
            "Epoc: 130 | MSE  0.40694\n",
            "Epoc: 131 | MSE  0.40687\n",
            "Epoc: 132 | MSE  0.40681\n",
            "Epoc: 133 | MSE  0.40668\n",
            "Epoc: 134 | MSE  0.40665\n",
            "Epoc: 135 | MSE  0.40661\n",
            "Epoc: 136 | MSE  0.40656\n",
            "Epoc: 137 | MSE  0.40649\n",
            "Epoc: 138 | MSE  0.40646\n",
            "Epoc: 139 | MSE  0.40644\n",
            "Epoc: 140 | MSE  0.40638\n",
            "Epoc: 141 | MSE  0.40638\n",
            "Epoc: 142 | MSE  0.40632\n",
            "Epoc: 143 | MSE  0.40632\n",
            "Epoc: 144 | MSE  0.40630\n",
            "Epoc: 145 | MSE  0.40626\n",
            "Epoc: 146 | MSE  0.40625\n",
            "Epoc: 147 | MSE  0.40623\n",
            "Epoc: 148 | MSE  0.40619\n",
            "Epoc: 149 | MSE  0.40618\n",
            "Epoc: 150 | MSE  0.40616\n"
          ]
        }
      ]
    },
    {
      "cell_type": "code",
      "source": [
        "import matplotlib.pyplot as plt\n",
        "plt.plot(range(len(cost)),cost)\n",
        "plt.ylabel('Mean Sqare Error')\n",
        "plt.xlabel('Epoc')\n",
        "plt.show()"
      ],
      "metadata": {
        "id": "AUiMMWXeX2X6",
        "colab": {
          "base_uri": "https://localhost:8080/",
          "height": 279
        },
        "outputId": "d0cd278f-ec1e-490e-9bdc-511879948b7c"
      },
      "execution_count": null,
      "outputs": [
        {
          "output_type": "display_data",
          "data": {
            "text/plain": [
              "<Figure size 432x288 with 1 Axes>"
            ],
            "image/png": "[encoded data removed]"
          },
          "metadata": {
            "needs_background": "light"
          }
        }
      ]
    },
    {
      "cell_type": "code",
      "source": [
        "ones=torch.ones(y_train.size())\n",
        "zero=torch.zeros(y_train.size())\n",
        "train_pred=model.forward(X_train)\n",
        "train_acc=torch.mean((\n",
        "    torch.where(train_pred > 0.5,\n",
        "                ones,zero).int()==y_train).float())\n",
        "\n",
        "\n",
        "ones=torch.ones(y_test.size())\n",
        "zeros=torch.zeros(y_test.size())\n",
        "test_pred=model.forward(X_test)\n",
        "test_acc=torch.mean((torch.where(test_pred> 0.5,ones,zeros).int()==y_test).float())\n",
        "\n",
        "print('Training Accuracy: %.2f' % (train_acc*100))\n",
        "print('Testing Accuracy: %.2f' % (test_acc*100))\n"
      ],
      "metadata": {
        "colab": {
          "base_uri": "https://localhost:8080/"
        },
        "id": "noMdRIQnY2yD",
        "outputId": "f922b5c8-2fa9-40d2-8f02-577ff4176598"
      },
      "execution_count": null,
      "outputs": [
        {
          "output_type": "stream",
          "name": "stdout",
          "text": [
            "Training Accuracy: 94.31\n",
            "Testing Accuracy: 95.00\n"
          ]
        }
      ]
    }
  ]
}